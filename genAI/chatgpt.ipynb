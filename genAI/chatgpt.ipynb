{
 "cells": [
  {
   "cell_type": "code",
   "execution_count": null,
   "metadata": {},
   "outputs": [],
   "source": [
    "%pip install openai"
   ]
  },
  {
   "cell_type": "code",
   "execution_count": null,
   "metadata": {},
   "outputs": [],
   "source": [
    "from openai import OpenAI\n",
    "\n",
    "client = OpenAI(\n",
    "  #api_key=\"\"\n",
    ") \n",
    "\n",
    "def chat_with_gpt(prompt):\n",
    "  \"\"\"\n",
    "  Sends a prompt to the ChatGPT API and returns the response.\n",
    "\n",
    "  Args:\n",
    "      prompt (str): The prompt to send to ChatGPT.\n",
    "\n",
    "  Returns:\n",
    "      str: The response from ChatGPT.\n",
    "  \"\"\"\n",
    "  response = client.chat.completions.create(\n",
    "    model=\"babbage-002\",\n",
    "    messages=[\n",
    "        {\"role\": \"developer\", \"content\": \"You are a helpful assistant.\"},\n",
    "        {\n",
    "            \"role\": \"user\",\n",
    "            \"content\": prompt\n",
    "        }\n",
    "    ]\n",
    "  )\n",
    "  return response.choices[0].text.strip()\n"
   ]
  },
  {
   "cell_type": "code",
   "execution_count": null,
   "metadata": {},
   "outputs": [],
   "source": [
    "# Example Usage\n",
    "user_input = \"Where is Mysuru Royal Institute of Technology located?\"\n",
    "response = chat_with_gpt(user_input)\n",
    "print(response)"
   ]
  }
 ],
 "metadata": {
  "kernelspec": {
   "display_name": ".venv",
   "language": "python",
   "name": "python3"
  },
  "language_info": {
   "codemirror_mode": {
    "name": "ipython",
    "version": 3
   },
   "file_extension": ".py",
   "mimetype": "text/x-python",
   "name": "python",
   "nbconvert_exporter": "python",
   "pygments_lexer": "ipython3",
   "version": "3.13.1"
  }
 },
 "nbformat": 4,
 "nbformat_minor": 2
}
